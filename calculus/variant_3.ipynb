{
 "cells": [
  {
   "cell_type": "markdown",
   "metadata": {
    "id": "pF4dI_l6pYdA"
   },
   "source": [
    "# Математический анализ. Лабораторная работа №1"
   ]
  },
  {
   "cell_type": "markdown",
   "metadata": {
    "id": "6vTCRESWxHVh"
   },
   "source": [
    "*Объявление:*\n",
    "Если у Вас возникает какая-либо ошибка и вы совершенно не понимаете, что не так, то:\n",
    "\n",
    "`1.` Внимательно изучите текст ошибки, ведь он зачастую подсказывает, что же не так;  \n",
    "`2.` Перечитайте внимательно код ещё раз;  \n",
    "`3.` Попросите помощи у одногруппников/учебных ассистентов.\n",
    "\n",
    "Если возникнут вопросы по поводу формулировок задач, писать в tg (@linalgisthefallengod)"
   ]
  },
  {
   "cell_type": "markdown",
   "metadata": {
    "id": "l6J7EtXprDZF"
   },
   "source": [
    "## №1. Библиотеки. Графики в Sympy"
   ]
  },
  {
   "cell_type": "code",
   "execution_count": 1,
   "metadata": {
    "id": "s2OOj51trivW"
   },
   "outputs": [],
   "source": [
    "# Вначале для простоты будем подключать модуль sympy целиком\n",
    "# Запустите данный код\n",
    "import numpy as np\n",
    "import matplotlib.pyplot as plt\n",
    "from sympy import *\n",
    "%matplotlib inline"
   ]
  },
  {
   "cell_type": "markdown",
   "metadata": {
    "id": "qtsy_jo-srrG"
   },
   "source": [
    "Для начала научимся строить графики функций от одной переменой. Например, $f(x) = 11x^4 + 3x^3 - 2x^2 - 10$"
   ]
  },
  {
   "cell_type": "markdown",
   "metadata": {
    "id": "CygZniKjuTTt"
   },
   "source": [
    "Построить график этой функции можно с помощью метода `plot`."
   ]
  },
  {
   "cell_type": "code",
   "execution_count": null,
   "metadata": {
    "colab": {
     "base_uri": "https://localhost:8080/",
     "height": 501
    },
    "id": "WsKkDq9suRIt",
    "outputId": "eb0bbecf-01a4-4028-e148-6d9f2a232229"
   },
   "outputs": [],
   "source": [
    "# Test this\n",
    "x = Symbol('x')\n",
    "f = 11*x**4 + 3*x**3 - 2*x**2 - 10\n",
    "plot(f)"
   ]
  },
  {
   "cell_type": "markdown",
   "metadata": {
    "id": "sz22xo-Ox6AP"
   },
   "source": [
    "В примере выше мы определили переменную `x`. Для этого воспользовались методом symbols(). Про его возможности можно ознакомиться вот [тут](hhttps://docs.sympy.org/latest/modules/core.html#sympy.core.symbol.symbols)."
   ]
  },
  {
   "cell_type": "markdown",
   "metadata": {
    "id": "lUiM_0F4xTpA"
   },
   "source": [
    "Можно задать интервал значений переменной, для которого требуется построить график. Можно передавать выражение для функции в\n",
    "качестве аргумента `plot`. Для того, чтобы задать интервал значений переменной, нужно указать значение необязательного параметра,\n",
    "представляющего собой `tuple` из имени переменной, левого и правого конца интервала.\n",
    "Если на одном графике нужно изобразить несколько функций, причем каждую на своем интервале, то при вызове `plot` перечисляются через\n",
    "запятую `tuple`, состоящие из выражения для функции (или имени переменной, в которую это выражение записано) и `tuple`, описывающей\n",
    "интервал значений функции (этот `tuple` состоит из имени переменной, левого и правого конца интервала).\n",
    "\n"
   ]
  },
  {
   "cell_type": "markdown",
   "metadata": {
    "id": "RxbhALVzzWg0"
   },
   "source": [
    "А теперь построим на одном графике функции $\\tan (x)$ на $[-\\pi/3, \\pi/3]$, $e^{x}$ на $[-2, 1]$ и $\\ln{x}$ на $[0.1, 2]$"
   ]
  },
  {
   "cell_type": "markdown",
   "metadata": {
    "id": "sJarlyyNFeMD"
   },
   "source": [
    "Составим список из функций и список из интервалов, на основе этих списков составим tuple, состоящий из tuple, содержащих выражение\n",
    "для функции и tuple из имени переменной, левого и правого конца интервала."
   ]
  },
  {
   "cell_type": "code",
   "execution_count": null,
   "metadata": {
    "colab": {
     "base_uri": "https://localhost:8080/",
     "height": 504
    },
    "id": "QI2NtF7fyrag",
    "outputId": "d3f964d2-a948-4151-c6e5-0e02dec8a797"
   },
   "outputs": [],
   "source": [
    "funcs = [tan(x), exp(x), ln(x)]\n",
    "intervals = [(-pi/3, pi/3), (-2, 1), (0.1, 2)]\n",
    "n = len(funcs)\n",
    "func_to_plot = tuple((funcs[i], (x, intervals[i][0], intervals[i][1])) for i in range(n))\n",
    "plot(*func_to_plot)"
   ]
  },
  {
   "cell_type": "markdown",
   "metadata": {
    "id": "CSw2vQ7UHg3o"
   },
   "source": [
    "Цвет линии определяется параметром `line_color`, который по умолчанию равен `blue`.\n",
    "\n",
    "Для того, чтобы на одном графике вывести несколько функций разных цветов нужно создать несколько графиков с помощью plot, но не\n",
    "изображать их, а собрать в список с помощью append. Для того, чтобы график не изображался, изменим параметр show,\n",
    "равный по умолчанию True.\n",
    "\n",
    "Построим на одном графике функции $x^2, cos(x)$ на $[-\\pi, \\pi]$, изобразив каждую из них желаемым цветом."
   ]
  },
  {
   "cell_type": "code",
   "execution_count": null,
   "metadata": {
    "colab": {
     "base_uri": "https://localhost:8080/",
     "height": 487
    },
    "id": "uwAxAXOnIj9Q",
    "outputId": "50e5fa31-ac2e-452b-cbff-9bb3832de229"
   },
   "outputs": [],
   "source": [
    "interval = (x, -pi, pi)\n",
    "p = plot(x**2, interval, line_color='green', show=False)\n",
    "p.append(plot(cos(x), interval, line_color='black', show=False)[0])\n",
    "p.show()"
   ]
  },
  {
   "cell_type": "markdown",
   "metadata": {
    "id": "x7_yqXOQ3_eK"
   },
   "source": [
    "Кстати у `plot` есть ещё куча аргументов, с которыми при желании Вы сможете ознакомиться на сайте:\n",
    "https://docs.sympy.org/latest/modules/plotting.html?highlight=plot#module-sympy.plotting.plot"
   ]
  },
  {
   "cell_type": "markdown",
   "metadata": {
    "id": "dqPJWGlSD9OB"
   },
   "source": [
    "#### **Задание 1.1 [2 балла]**"
   ]
  },
  {
   "cell_type": "markdown",
   "metadata": {
    "id": "LCUuTbLCCwos"
   },
   "source": [
    "Построить график $\\frac{1}{\\sin(x)}$ на интервале $(\\pi, 5\\pi)$ без асимптот, задать предел по вертикальной оси (-10, 10). Подписать графики\n",
    "\n",
    "\n",
    "*Предел определяется параметром `xlim` либо `ylim`.*\n",
    "\n",
    "*Указание:*\n",
    "\n",
    "График разбить на части, исключив точки разрыва. При построении `tuple` с именем переменной и интервалом ее значений от точки разрыва\n",
    "отступить на 0.01, т.е. использовать $(x, \\pi + 0.01, 2\\pi - 0.01)$ вместо $(x, \\pi, 2\\pi)$.\n",
    "Для удобства пользуйтесь циклом $for$, чтобы создать `tuple`, состоящий из `tuple`, содержащих выражение для функции и `tuple` из имени\n",
    "переменной, левого и правого конца интервала.\n",
    "Не забудьте об $y_{lim}=(-7, 7)$!\n"
   ]
  },
  {
   "cell_type": "code",
   "execution_count": null,
   "metadata": {
    "id": "0pXlXP7vDg3I"
   },
   "outputs": [],
   "source": [
    "#Write your solution here :)"
   ]
  },
  {
   "cell_type": "markdown",
   "metadata": {
    "id": "Qj5GvwknDqib"
   },
   "source": [
    "#### **Задание 1.2 [2 балла]**"
   ]
  },
  {
   "cell_type": "markdown",
   "metadata": {
    "id": "Ou0fNO_vDxos"
   },
   "source": [
    "Построить на отрезке $[−4𝜋, 4𝜋]$ график $\\sqrt{x}$ синим цветом, а график $e^{-x^2}$ красным, задать предел по вертикальной оси $(-4, 4)$."
   ]
  },
  {
   "cell_type": "code",
   "execution_count": null,
   "metadata": {
    "id": "TZcwdkB8EDmx"
   },
   "outputs": [],
   "source": [
    "#Write your solution here :)"
   ]
  },
  {
   "cell_type": "markdown",
   "metadata": {
    "id": "APIxRdcpK_ja"
   },
   "source": [
    "#### **Задание 1.3 [3 балла]**"
   ]
  },
  {
   "cell_type": "markdown",
   "metadata": {
    "id": "HPxdX50rLEJ6"
   },
   "source": [
    "Построить графики $\\log_{2}{x}$, $\\log_{10}{x}$, $\\ln{x}$ в одной плоскости, каждый график отдельным цветом $(\"red\", \"green\", \"black\")$. Отобразить название графика \"Логарифмы по основанию 2, 10, и $e$\", подписать горизонтальную ось $x$,вертикальную ось $\\log_a{x}$. Включить легенду, в ней все функции подписать своими формулами, например, натуральный логарифм $ln{x}$,десятичный $lg{x}$. $x$ должен принимать значения от 0.01 до 3.\n",
    "\n",
    "\n",
    "Предел по вертикальной оси выставляйте любой."
   ]
  },
  {
   "cell_type": "markdown",
   "metadata": {
    "id": "U-XB0fPdUp9P"
   },
   "source": [
    "*Указание.*\n",
    "\n",
    "\n",
    "Можно составить подходящий словарь, list или tuple и использовать его в plot. Вначале можно построить только координатную плоскость с\n",
    "надписью графика и подписями осей, а также legend=True, а затем в цикле добавлять с помощью append графики функций разных цветов."
   ]
  },
  {
   "cell_type": "code",
   "execution_count": null,
   "metadata": {
    "id": "_jfEWFDvUr8H"
   },
   "outputs": [],
   "source": [
    "#Write your solution here :)"
   ]
  },
  {
   "cell_type": "markdown",
   "metadata": {
    "id": "m26rumJILFOp"
   },
   "source": [
    "#### График неявно заданной функции\n",
    "\n"
   ]
  },
  {
   "cell_type": "markdown",
   "metadata": {
    "id": "wCSUlWGhMwZf"
   },
   "source": [
    "Изобразить график уравнения, например, окружности, удобнее с помощью функции `plot_implicit`.\n",
    "\n",
    " Уравнение неявно заданной функции\n",
    "передается `plot_implicit` как `Equality`, сокращенно `Eq`. Аргументами `Eq` выступают левая и правая части уравнения (*lhs* и *rhs* соответственно)."
   ]
  },
  {
   "cell_type": "markdown",
   "metadata": {
    "id": "22803X65QjC5"
   },
   "source": [
    "Построим график функции $cos(x^2 + y^2) =  tan(x^2 + y^2) \\cdot cos(x + y)$"
   ]
  },
  {
   "cell_type": "markdown",
   "metadata": {
    "id": "36tRkwH5PHUE"
   },
   "source": [
    "*Примечание: будьте терпеливыми*"
   ]
  },
  {
   "cell_type": "code",
   "execution_count": null,
   "metadata": {
    "colab": {
     "base_uri": "https://localhost:8080/",
     "height": 503
    },
    "id": "iu-WZwktNHfu",
    "outputId": "fcb74652-0415-491c-86b9-965aaf82cdb2"
   },
   "outputs": [],
   "source": [
    "x, y = symbols('x y')\n",
    "plot_implicit(Eq(cos(x**2 + y**2), tan(x**2 + y**2) * cos(x + y)),\n",
    " (x, -5, 5),\n",
    " (y, -5, 5),\n",
    ")\n"
   ]
  },
  {
   "cell_type": "markdown",
   "metadata": {
    "id": "Zeg1BV8jPGCC"
   },
   "source": [
    "А теперь построим график функции $tan(x \\cdot sin(x)) = tan(y \\cdot sin(y))$"
   ]
  },
  {
   "cell_type": "code",
   "execution_count": null,
   "metadata": {
    "colab": {
     "base_uri": "https://localhost:8080/",
     "height": 504
    },
    "id": "LmD0e3HbQORQ",
    "outputId": "b9319108-23f1-46b1-9fb7-5f72bfbe0c7a"
   },
   "outputs": [],
   "source": [
    "x, y =symbols('x y')\n",
    "plot_implicit(Eq(tan(x * sin(x)), tan(y * sin(y))),\n",
    " (x, -10, 10),\n",
    " (y, -10, 10),\n",
    "  line_color='green'\n",
    ")"
   ]
  },
  {
   "cell_type": "markdown",
   "metadata": {
    "id": "BXhsRisKRHKM"
   },
   "source": [
    "#### **Задание* 1.4 Бонусное [1 балл]**\n",
    "\n",
    "Придумайте сами такую неявно заданную функцию, график которой выглядит достаточно забавно и красиво."
   ]
  },
  {
   "cell_type": "code",
   "execution_count": null,
   "metadata": {
    "id": "u_lRN3blRWMe"
   },
   "outputs": [],
   "source": [
    "#Use your imagination here"
   ]
  },
  {
   "cell_type": "markdown",
   "metadata": {},
   "source": [
    "#### **Задание 1.5 [3 балла]**\n",
    "\n",
    "Изобразить функцию  $f: \\mathbb{R}^2 \\rightarrow \\mathbb{R}$ на листке бумаги, казалось бы, невозможно. Однако с этой задачей справлялись топографы задолго до изобретения 3D-графики, составляя карты рельефа.\n",
    "\n",
    "На двумерной карте рельефа каждой точке мы сопоставляем цвет, который отображает некоторую физическую величину, например, высоту над уровнем моря. Аналогично, каждой точке на декартовых координатах мы можем сопоставить значение некоторой функции в ней.\n",
    "\n",
    "Для создания такого графика мы будем использовать библиотеки ``matplotlib`` и ``numpy``. На самом деле, когда вы писали ``plot(...)``, передавая в качестве аргументов объекты-функции модуля ``sympy``, ``plot`` передавала работу библиотекам  ``matplotlib`` и ``numpy``. Простота такого подхода компенсируется его ограниченностью. Чтобы увеличить возможности по визуализации, необходимо выбрать более низкоуровневый подход.\n",
    "\n",
    "Ниже приведён код-пример по созданию графика с помощью ``matplotlib``"
   ]
  },
  {
   "cell_type": "code",
   "execution_count": null,
   "metadata": {},
   "outputs": [],
   "source": [
    "import matplotlib.pyplot as plt\n",
    "\n",
    "def f(x):\n",
    "    '''\n",
    "    В качестве аргумента передаётся два вектора класса np.array\n",
    "    np.sin(x) находит синус каждого из чисел этого произвольного массива\n",
    "    \n",
    "    return: массив значений функции в точках массива x\n",
    "    '''\n",
    "    \n",
    "    return np.sin(x) ** 2 - 1\n",
    "\n",
    "\n",
    "# Создаём массив из 1000 точек от -4 до 4\n",
    "# Расположенных равномерно\n",
    "x_values = np.linspace(-4, 4, 1000)\n",
    "\n",
    "# Рисуем сам график\n",
    "plt.plot(x, f(x_values))\n",
    "\n",
    "# Даём ему название\n",
    "plt.title('$График \\ f=\\sin(x)^2 - 1$\\n')\n",
    "\n",
    "# Подписываем оси\n",
    "plt.xlabel('x')\n",
    "plt.ylabel('y')\n",
    "\n",
    "# Добавляем координатную сетку\n",
    "plt.grid()\n",
    "\n",
    "plt.show()"
   ]
  },
  {
   "cell_type": "markdown",
   "metadata": {},
   "source": [
    "Ваша задача - визуализировать функцию $f(x, y) = (x - 2)^2 + (3 - y)^2$ на $[-4; 4] \\times [-4; 4]$ с использованием библиотеки ``matplotlib`` и цветного рисунка. Добавить ``colorbar``, оси подписать, добавить название графика.\n",
    "\n",
    ">подсказка: для создания множества значений функций вам поможет функция ``np.meshgrid``"
   ]
  },
  {
   "cell_type": "code",
   "execution_count": null,
   "metadata": {},
   "outputs": [],
   "source": [
    "#Write your solution here :)"
   ]
  },
  {
   "cell_type": "markdown",
   "metadata": {},
   "source": [
    "#### **Задание 1.6 [0.75 балла]**\n",
    "\n",
    "2) Есть ли у функции точка локального минимума или максимума? Что это за точка (минимум/максимум + координаты) "
   ]
  },
  {
   "cell_type": "markdown",
   "metadata": {},
   "source": [
    "**Your text here**"
   ]
  },
  {
   "cell_type": "markdown",
   "metadata": {},
   "source": [
    "#### **Задание 1.7 [1.5 балла]**\n",
    "\n",
    "Вернёмся к более прямолинейному подходу и попробуем нарисовать $f: \\mathbb{R}^2 \\rightarrow \\mathbb{R}$ с помощью трёхмерной графики. Для этого также следует использовать библиотеку ``matplotlib``. Узнайте, как делать трёхмерные графики в ней и визуализируйте функцию $f(x, y) = (x - 2)^2 + (3 - y)^2$ на $[-4; 4] \\times [-4; 4]$. Оси подписать, добавить название графика."
   ]
  },
  {
   "cell_type": "code",
   "execution_count": null,
   "metadata": {},
   "outputs": [],
   "source": [
    "#Write your solution here :)"
   ]
  },
  {
   "cell_type": "markdown",
   "metadata": {},
   "source": [
    "#### **Задание 1.8 [1.5 балла]**\n",
    "\n",
    "Нарисованный 3d график позволяет увидеть только одну проекцию данного изображения. Поверхность заслоняет всё, что находится за ней. Самое лучшее решение - сделать карту интерактивной с возможностью её поворачивать. Для этих целей существует библиотека plotly.\n",
    "\n",
    "Визуализируйте функцию $f(x, y) = (x - 2)^2 + (3 - y)^2$ на $[-4; 4] \\times [-4; 4]$, график подпишите."
   ]
  },
  {
   "cell_type": "code",
   "execution_count": null,
   "metadata": {},
   "outputs": [],
   "source": [
    "# установка библиотеки, если она отсутствует\n",
    "!pip install plotly"
   ]
  },
  {
   "cell_type": "code",
   "execution_count": null,
   "metadata": {},
   "outputs": [],
   "source": [
    "import plotly.graph_objects as go\n",
    "\n",
    "def f(x, y):\n",
    "    # write your code here\n",
    "    return \n",
    "\n",
    "fig = go.Figure(# write your code here...)\n",
    "\n",
    "# write your code here...\n",
    "# ...\n",
    "\n",
    "fig.show()"
   ]
  },
  {
   "cell_type": "markdown",
   "metadata": {},
   "source": [
    "#### **Задание 1.9 [3 балла]**\n",
    "\n",
    "Реализуйте ещё один способ визуализации графиков функций $\\mathbb{R}^2 \\rightarrow \\mathbb{R}$ (вспомните лекции или придумайте способ самостоятельно)."
   ]
  },
  {
   "cell_type": "code",
   "execution_count": null,
   "metadata": {},
   "outputs": [],
   "source": [
    "#Write your solution here :)"
   ]
  },
  {
   "cell_type": "markdown",
   "metadata": {},
   "source": [
    "#### **Задание 1.10 [4 балла]**\n",
    "\n",
    "Визуализировать функцию $f: \\mathbb{R}^2 \\rightarrow \\mathbb{R}^2$"
   ]
  },
  {
   "cell_type": "markdown",
   "metadata": {},
   "source": [
    "Поскольку мы ограничены тремя измерениями, в полной мере визуализировать функцию $f: \\mathbb{R}^2 \\rightarrow \\mathbb{R}^2$ не представляется возможным. Тем не менее, мы можем представить такую функцию как некоторую трансформацию числовой плоскости ([здесь](https://youtu.be/sD0NjbwqlYw?si=gfqBWQE2E2LRjjjT) и [здесь](https://www.youtube.com/watch?v=bohL918kXQk&t=286s) хорошо объяснён и изображён механизм трансформации числовой плоскости на примере дзета-функции Римана). Имеется в виду, что каждой точке числовой плоскости мы сопоставляем какую-то другую точку той же самой плоскости (аналогично с тем, как при визуализации школьных функций мы каждой точке из $\\mathbb{R}$ сопоставляем точку из $\\mathbb{R}$).\n",
    "\n",
    "Для примера рассмотрим такую трансформацию: $f(x, y) = (-x, y)$. То есть каждой точке нашей плоскости сопоставляем точку, отражённую относительно оси OY. Можно думать, что мы взяли какое-то произвольное множество (например, множество синих точек) и изобразили множество, куда оно переходит под нашей трансформацией (красное множество)."
   ]
  },
  {
   "cell_type": "code",
   "execution_count": null,
   "metadata": {
    "scrolled": false
   },
   "outputs": [],
   "source": [
    "plt.imshow(plt.imread(\"transformation.png\"))\n",
    "plt.xticks([])\n",
    "plt.yticks([])\n",
    "plt.show()"
   ]
  },
  {
   "cell_type": "markdown",
   "metadata": {},
   "source": [
    " Множество, на котором мы рассматриваем трансформацию, может быть произвольным: точкой, прямой, кругом или чем-то ещё. Но чаще всего для таких отображений рассматривают трансформацию отрезков. Ваша задача - написать функцию которая будет визуализировать отображение $f(x, y) = (x e^y, y e^x)$ на $[-1; 1] \\times [-1; 1]$  вышеописанным способом. \n",
    " \n",
    "Вы должны показать отображение не менее 5 вертикальных и 5 горизонтальных прямых. Кривые до и после отображения следует визуализировать на двух различных графиках с помощью функции ``plt.subplots``. (Подписать всё как и в прошлых пунктах)"
   ]
  },
  {
   "cell_type": "code",
   "execution_count": null,
   "metadata": {},
   "outputs": [],
   "source": [
    "def f(x, y):\n",
    "    return # Ваш код здесь\n",
    "\n",
    "\n",
    "def draw_transform(f, x_lines=range(-2, 3, 1), y_lines=range(-2, 3, 1)):\n",
    "    '''\n",
    "    f = функция R^2 -> R^2\n",
    "    x_lines = множество координат по оси x вертикальных прямых (по умолчанию целые числа от -2 до 2)\n",
    "    y_lines = множество координат по оси y горизонтальных прямых (по умолчанию целые числа от -2 до 2)\n",
    "    '''\n",
    "    \n",
    "    # Создаём подграфики\n",
    "    fig, axes = plt.subplots(1, 2, figsize=(20, 10))\n",
    "\n",
    "    # Создаём координаты точек на этих прямых\n",
    "    lines = # Ваш код здесь\n",
    "\n",
    "    # Для каждой прямой рисуем на графике слева - её саму, \n",
    "    # на графике справа - отображение этой прямой\n",
    "    for line in lines:\n",
    "        axes[0].plot(# Ваш код здесь)\n",
    "        axes[0].grid(0.5) # создём координатную сетку\n",
    "\n",
    "            \n",
    "        # множество точек на новых прямых\n",
    "        after_transform = # Ваш код здесь\n",
    "        axes[1].plot(# Ваш код здесь)\n",
    "        axes[1].grid(0.5) # создём координатную сетку\n",
    "    \n",
    "    axes[1].set(xlabel='x', ylabel='y', title='grid after transformation')\n",
    "    axes[0].set(xlabel='x', ylabel='y', title='grid before transformation')\n",
    "    plt.show()\n",
    "            \n",
    "\n",
    "draw_transform(f)"
   ]
  },
  {
   "cell_type": "markdown",
   "metadata": {},
   "source": [
    "#### **Задание 1.11 [1.5 балла]**\n",
    "\n",
    "Непрерывно дифференцируемое преобразование локально выглядит также, как и некоторое линейное преобразование. Как найти это линейное преобразование?"
   ]
  },
  {
   "cell_type": "markdown",
   "metadata": {},
   "source": [
    "**Your answer here**"
   ]
  },
  {
   "cell_type": "markdown",
   "metadata": {},
   "source": [
    "#### **Задание 1.12 [3 балла]**\n",
    "\n",
    "Сравните локально два отображения: изначальное и его линейное приближение. Возьмите достаточно маленькую окрестность точки (-1, 1). Выберите как минимум 5 прямых для наглядности."
   ]
  },
  {
   "cell_type": "code",
   "execution_count": null,
   "metadata": {},
   "outputs": [],
   "source": [
    "# Write your code here :)"
   ]
  },
  {
   "cell_type": "markdown",
   "metadata": {},
   "source": [
    "Объясните что произошло. Сравните разные возможные окрестности заданной точки."
   ]
  },
  {
   "cell_type": "code",
   "execution_count": null,
   "metadata": {},
   "outputs": [],
   "source": [
    "# Write your code here :)"
   ]
  },
  {
   "cell_type": "markdown",
   "metadata": {},
   "source": [
    "**Your text here**"
   ]
  },
  {
   "cell_type": "markdown",
   "metadata": {
    "id": "FEckC4jLCJ1O"
   },
   "source": [
    "## №2. Дифференцирование функций."
   ]
  },
  {
   "cell_type": "code",
   "execution_count": null,
   "metadata": {
    "id": "G1Ry37E4wvkf"
   },
   "outputs": [],
   "source": [
    "#необходимые библиотеки для этого раздела\n",
    "import numpy as np\n",
    "import matplotlib.pyplot as plt\n",
    "import sympy\n",
    "from sympy import diff, solve, nsolve, solveset, latex, S, simplify, fraction\n",
    "from sympy import sin as Sin\n",
    "from sympy.calculus.util import continuous_domain\n",
    "%matplotlib inline"
   ]
  },
  {
   "cell_type": "markdown",
   "metadata": {
    "id": "G-VYjKw5xWmI"
   },
   "source": [
    "Продолжаем работать с секцией Calculus библиотеки SymPy. В этой части вам необходимо ознакомиться с возможностью считать производные и выводить красивые ответы. Библиотека позволяет быстро найти производную практически любой заданной функции.\n"
   ]
  },
  {
   "cell_type": "markdown",
   "metadata": {
    "id": "V0uCgVLoz9HP"
   },
   "source": [
    "В sympy производная находится аналитически с помощью `diff`, эту функцию можно использовать и как метод. Покажем на примере оба варианта вызова `diff`.\n",
    "\n",
    "Найдем производную $f(x) = x^2 - \\sin x$.\n",
    "\n",
    "Вначале применим `diff` как функцию, ее аргументы - функция или выражение и имя переменной.\n",
    "\n",
    "В нашем примере зададим $f(x)$ как выражение."
   ]
  },
  {
   "cell_type": "code",
   "execution_count": null,
   "metadata": {
    "colab": {
     "base_uri": "https://localhost:8080/",
     "height": 39
    },
    "id": "2DlWWiy20kk8",
    "outputId": "dd4317d3-de6d-4a5e-bed8-9f9c735cc68c"
   },
   "outputs": [],
   "source": [
    "from sympy.abc import x  #альтернативный способ определения символа\n",
    "f = x**2 - Sin(x)\n",
    "diff(f, x)"
   ]
  },
  {
   "cell_type": "markdown",
   "metadata": {
    "id": "Jqzeyood07Fi"
   },
   "source": [
    "Теперь применим `diff` как метод, аргумент - имя переменной:"
   ]
  },
  {
   "cell_type": "code",
   "execution_count": null,
   "metadata": {
    "colab": {
     "base_uri": "https://localhost:8080/",
     "height": 39
    },
    "id": "je0pFAJd1_xR",
    "outputId": "74688315-df27-4e3d-cf8c-7e6271e834ba"
   },
   "outputs": [],
   "source": [
    "f.diff(x)"
   ]
  },
  {
   "cell_type": "markdown",
   "metadata": {
    "id": "vX1fCzoD3nj8"
   },
   "source": [
    "Порядок производной является необязательным аргументом `diff` со значением по умолчанию 1. Для вычисления производный высоких порядков нужно указать порядок производной.\n",
    "\n",
    "Например: Найдем производную второго порядка для функции $f(x) = x^2 - \\sin x$.\n",
    "\n",
    "Опишем $f(x)$ как функцию. Применим `diff` как метод."
   ]
  },
  {
   "cell_type": "code",
   "execution_count": null,
   "metadata": {
    "colab": {
     "base_uri": "https://localhost:8080/",
     "height": 39
    },
    "id": "FN_tLU9Ixo2Y",
    "outputId": "dce6053f-bfda-4ba6-acf8-c40d6ef35200"
   },
   "outputs": [],
   "source": [
    "def f(x):\n",
    "    return x**2 - Sin(x)\n",
    "f(x).diff(x, 2)"
   ]
  },
  {
   "cell_type": "markdown",
   "metadata": {
    "id": "ySwlvaK23R_5"
   },
   "source": [
    "Производные можно считать от функций с несколькими переменными.\n",
    "\n",
    "Например: возьмем функцию $$f(x, y) = x^{123} \\cdot y + y^{34} \\cdot x^4$$\n",
    "\n"
   ]
  },
  {
   "cell_type": "code",
   "execution_count": null,
   "metadata": {
    "colab": {
     "base_uri": "https://localhost:8080/",
     "height": 39
    },
    "id": "PuTkU3jBFoGa",
    "outputId": "75db11f1-c988-4584-ae0e-00e91f8cd823"
   },
   "outputs": [],
   "source": [
    "x, y = symbols('x'), symbols('y')\n",
    "func = (x ** 123) * y + (y ** 34) * (x ** 4)\n",
    "div_func = diff(func, x)\n",
    "div_func"
   ]
  },
  {
   "cell_type": "markdown",
   "metadata": {
    "id": "bu3lBJNpKhFE"
   },
   "source": [
    "Коротко о том что мы сделали: мы записали в переменную функцию `func` для которой мы хотим посчитать производную.\n",
    "После всего этого в следующей строке мы воспользовались методом `diff` где вторым параметром указали по какой переменной мы хотим считать производную первого порядка (мы считали по`x`)."
   ]
  },
  {
   "cell_type": "markdown",
   "metadata": {
    "id": "zPonJ6Pc38Cp"
   },
   "source": [
    "Теперь посчитаем по `y`"
   ]
  },
  {
   "cell_type": "code",
   "execution_count": null,
   "metadata": {
    "colab": {
     "base_uri": "https://localhost:8080/",
     "height": 39
    },
    "id": "e7Mr7Xk64Cmv",
    "outputId": "b35872a3-cdd7-47cc-e326-1148ac9061ea"
   },
   "outputs": [],
   "source": [
    "x, y = symbols('x'), symbols('y')\n",
    "func = (x ** 123) * y + (y ** 34) * (x ** 4)\n",
    "div_func2 = diff(func, y)\n",
    "div_func2"
   ]
  },
  {
   "cell_type": "markdown",
   "metadata": {
    "id": "tWxH8f90NszU"
   },
   "source": [
    "P.S. В этом разделе будет полезно ознакомиться с документацией.\n",
    "\n",
    "Про производные можно ознакомиться [тут](https://docs.sympy.org/latest/tutorials/intro-tutorial/calculus.html#calculus).\n",
    "\n",
    " Про метод `diff` и все его вытекающие можно ознакомиться [здесь.](https://docs.sympy.org/latest/modules/core.html#sympy.core.function.diff)"
   ]
  },
  {
   "cell_type": "markdown",
   "metadata": {
    "id": "Merwmr5EOgmb"
   },
   "source": [
    "#### **Задание 2.1 [3 балла]**\n",
    "\n",
    "Написать функцию `def check_diff(seq: sympy.core.mul.Mul, x: sympy.Symbol, a: float) -> bool` для проверки дифференцируемости заданной функции в точке."
   ]
  },
  {
   "cell_type": "code",
   "execution_count": null,
   "metadata": {
    "colab": {
     "base_uri": "https://localhost:8080/",
     "height": 141
    },
    "id": "aFwUA7IyOzZZ",
    "outputId": "50e9c949-4e9d-4728-bbb7-b2baae4d177c"
   },
   "outputs": [],
   "source": [
    "#Write your solution here\n",
    "def check_diff(seq: sympy.core.mul.Mul, x: sympy.Symbol, a: float) -> bool:\n",
    "    pass"
   ]
  },
  {
   "cell_type": "markdown",
   "metadata": {
    "id": "MSMfrg27MJ6M"
   },
   "source": [
    "#### **Задание 2.2 [1 балл]**.\n",
    "\n",
    "Напишите функцию ```find_derivative() -> str ```, которая возвращает строку-производную по `x` следующей функции:\n",
    "\n",
    "$$f_2 = \\frac{(\\exp(x^2) + \\arccos(x)}{x^2} + ln(x)\\cdot cos(x)\\cdot x^2 + \\frac{\\cot(x - 1)}{sin(x)} $$\n",
    "\n",
    "**Важно**: в коде явно укажите, чему равна $f_2$. Например : `f_2 = 20 * x  + sin(x)`\n",
    "\n",
    "Примечание: ручками считать это нельзя:)\n",
    "Не забываем подключать нужные функции."
   ]
  },
  {
   "cell_type": "code",
   "execution_count": null,
   "metadata": {
    "id": "Rc2VpXfnR3-A"
   },
   "outputs": [],
   "source": [
    "#Write your solution here\n",
    "f_2 =\n",
    "def find_derivative() -> str:\n",
    "    pass"
   ]
  },
  {
   "cell_type": "markdown",
   "metadata": {
    "id": "NQwflfbsXHNz"
   },
   "source": [
    "#### **Аналитическое решение уравнений.**\n",
    "\n",
    "\n",
    "Идея их использования: хотим найти точное символьное решение конкретной задачи.\n"
   ]
  },
  {
   "cell_type": "markdown",
   "metadata": {
    "id": "6nkAoypi1D-T"
   },
   "source": [
    "Для решения нелинейных уравнений вида\n",
    "$$\n",
    "f(x) = 0\n",
    "$$\n",
    "можно использовать метод  `solve`, которому передается выражение $f(x)$ и переменная, относительно которой нужно решать уравнение. Возвращает solve список list корней уравнения, он может быть пустым или конечным.\n",
    "\n",
    "Например:\n",
    "Решим уравнение $x^2 - 1 = 0$ с помощью `solve`. Поскольку в левой части уравнения только одна переменная, ее можно явно не указывать."
   ]
  },
  {
   "cell_type": "code",
   "execution_count": null,
   "metadata": {
    "colab": {
     "base_uri": "https://localhost:8080/"
    },
    "id": "a63BPrqb1Y0o",
    "outputId": "e2bfd004-0b40-4e0d-f5ec-11d7a5208975"
   },
   "outputs": [],
   "source": [
    "x = Symbol('x')\n",
    "solve(x**2 - 1)"
   ]
  },
  {
   "cell_type": "markdown",
   "metadata": {
    "id": "SnW0dx8P12eu"
   },
   "source": [
    "Для решения уравнения в вещественных числах можно использовать `solveset` с необязательным параметром  domain=S.Reals.\n",
    "\n",
    "Укажем, что решение ищется только в вещественных числах:"
   ]
  },
  {
   "cell_type": "code",
   "execution_count": null,
   "metadata": {
    "colab": {
     "base_uri": "https://localhost:8080/",
     "height": 37
    },
    "id": "0g-ykhYs14zJ",
    "outputId": "10164525-0597-42b5-9848-78838f91e064"
   },
   "outputs": [],
   "source": [
    "solveset(x**2 + 1, domain=S.Reals)"
   ]
  },
  {
   "cell_type": "markdown",
   "metadata": {
    "id": "ZXyoIIlz2Y2A"
   },
   "source": [
    "`Solveset` возвращает  множество set корней уравнения, оно может быть пустым, конечным или даже бесконечным.\n",
    "\n",
    "Например:\n",
    "Уравнение, имеющее бесконечно много решений $\\sin(x)=0$."
   ]
  },
  {
   "cell_type": "code",
   "execution_count": null,
   "metadata": {
    "colab": {
     "base_uri": "https://localhost:8080/",
     "height": 39
    },
    "id": "n4HtVqAs2i9j",
    "outputId": "90628848-b560-47b7-fb64-3e585e9af05d"
   },
   "outputs": [],
   "source": [
    "solveset(sin(x))"
   ]
  },
  {
   "cell_type": "markdown",
   "metadata": {
    "id": "p9jbcizi31tL"
   },
   "source": [
    "Уравнение в форме $f(x)=0$ можно решить численно с помощью `nsolve()`, для этого нужно задать выражение, определяющее функцию, переменную и начальное приближение.\n",
    "\n",
    "`nsolve(f, [args,] x0, modules=['mpmath'], **kwargs)`\n",
    "\n",
    "`f`  - вектор-функция, состоящая из символьных выражений, представляющих систему уравнений,\n",
    "\n",
    "`args`  - переменные (если переменная одна, ее можно не указывать)\n",
    "\n",
    "`x0` - начальное приближение\n",
    "\n",
    "Точность решения определяется параметром по умолчанию `prec` (число знаков после запятой в результате).\n",
    "\n",
    "Например, `nsolve(cos(x) - x, 1, prec=50)`"
   ]
  },
  {
   "cell_type": "markdown",
   "metadata": {
    "id": "sSdFphzS4Ro4"
   },
   "source": [
    "Например, Решим уравнение $x^2-1=0$ с помощью `solveset` и `nsolve`, для `nsolve` укажем начальное приближение 3:"
   ]
  },
  {
   "cell_type": "code",
   "execution_count": null,
   "metadata": {
    "colab": {
     "base_uri": "https://localhost:8080/",
     "height": 58
    },
    "id": "0G45xHLU4t2w",
    "outputId": "b8396eb1-f738-4de0-b7dd-6ae62a92c0ce"
   },
   "outputs": [],
   "source": [
    "from sympy.abc import x # Это альтернативный способ определения символа.\n",
    "display(solveset(x**2 - 1))\n",
    "nsolve(x**2 - 1, x, 3)"
   ]
  },
  {
   "cell_type": "markdown",
   "metadata": {
    "id": "36fH7lqO4tBo"
   },
   "source": [
    "Заметим, что nsolve выдает только одно решение.\n",
    "\n",
    "Используем другое начальное приближение."
   ]
  },
  {
   "cell_type": "code",
   "execution_count": null,
   "metadata": {
    "colab": {
     "base_uri": "https://localhost:8080/",
     "height": 37
    },
    "id": "oCYso1Uz43fE",
    "outputId": "069ecb9b-8d72-436f-ce5a-0654a085b112"
   },
   "outputs": [],
   "source": [
    "nsolve(x**2 - 1, x, -3)"
   ]
  },
  {
   "cell_type": "markdown",
   "metadata": {
    "id": "pCAgzx435FfG"
   },
   "source": [
    "Про методы `solve` `solveset`\n",
    "почитать можно [тут](https://docs.sympy.org/latest/modules/solvers/solveset.html)\n",
    "\n",
    "Про метод `nsolve` почитать можно [здесь](https://docs.sympy.org/latest/modules/solvers/solvers.html#sympy.solvers.solvers.nsolve)\n",
    "\n"
   ]
  },
  {
   "cell_type": "markdown",
   "metadata": {
    "id": "ZsEZHMPmY3Cw"
   },
   "source": [
    "#### **Задание 2.3 [3 балла]**.\n",
    "\n",
    " Предположим, у вас есть начальная сумма денег `initial`, и вы хотите инвестировать ее под фиксированный годовой процентный доход `extra`. Вам нужно найти, сколько времени `year` потребуется, чтобы ваша инвестиция достигла или превысила определенную целевую сумму `final`.\n",
    "\n",
    " Уравнение для этой задачи выглядит следующим образом:\n",
    "\n",
    "$$ initial × \\left(1 + \\frac{extra}{100}\\right)^{t} = final $$\n",
    "\n",
    "Напишите функцию `check_time(initial: float, extra: float, final: float) -> int` чтобы определить сколько времени понадобится чтобы достичь желаемой цели."
   ]
  },
  {
   "cell_type": "code",
   "execution_count": null,
   "metadata": {
    "id": "I-Fc67TgB8eQ"
   },
   "outputs": [],
   "source": [
    "#Write your solution here\n",
    "\n",
    "def check_time(initial: float, extra: float, final: float) -> int:\n",
    "    pass"
   ]
  },
  {
   "cell_type": "markdown",
   "metadata": {
    "id": "qx6bkgKmbhpw"
   },
   "source": [
    "#### **Задание 2.4 [3 балла]**.\n",
    "\n",
    "Представьте себе, что у вас есть экологический наблюдательный набор данных о популяции определенного вида животных в течение нескольких лет. Вам известно, что динамика $\\frac{dN}{dt}$ этой популяции может быть описана следующим уравнением:\n",
    "\n",
    "$$ \\frac{dN}{dt} = r \\times N \\times \\left(1 - \\frac{N}{k}\\right)$$\n",
    "\n",
    "*(уравнения с неизвестной функцией $N$, в которых участвует её производная $\\frac{dN}{dt}$, называются дифференциальными).*\n",
    "\n",
    "Где в этой формуле:\n",
    "\n",
    "- $ \\frac{dN}{dt}$ = скорость изменения популяции во времени;\n",
    "\n",
    "- $N$ = текущая популяцияж;\n",
    "\n",
    "- $r$ = коэффициент рождаемости и смертности;\n",
    "\n",
    "- $k$ = ёмкость среды (максимальное число особей, которое среда может поддерживать).\n",
    "\n",
    "Ваша задача: Вам известны значения $r$ и $k$ а также начальное значение популяции $N_0$ (в момент $t=0$) Вам нужно найти $t$ когда популяция станет определенного значения таргета.\n",
    "\n",
    "Задачу должна решать функция `solve_population(r: float, K: float, N0: float, N_target: float) -> list[float]`."
   ]
  },
  {
   "cell_type": "code",
   "execution_count": null,
   "metadata": {
    "id": "C3JT_86JCOet"
   },
   "outputs": [],
   "source": [
    "#Write your solution here\n",
    "\n",
    "def solve_population(r: float, K: float, N0: float, N_target: float) -> list[float]:\n",
    "    pass"
   ]
  },
  {
   "cell_type": "markdown",
   "metadata": {},
   "source": [
    "#### **Задача 2.5 [3 балла]** \n",
    "\n",
    "В этом задании вам необходимо будет реализовать [алгоритм Ньютона](https://ru.wikipedia.org/wiki/%D0%9C%D0%B5%D1%82%D0%BE%D0%B4_%D0%9D%D1%8C%D1%8E%D1%82%D0%BE%D0%BD%D0%B0) для численного решения функций. Чтобы добиться произвольной точности, необходимо использовать метод ``evalf`` sympy-функций. "
   ]
  },
  {
   "cell_type": "code",
   "execution_count": null,
   "metadata": {},
   "outputs": [],
   "source": [
    "x = Symbol('x')\n",
    "expr = sin(x)\n",
    "\n",
    "# 50 - количество знаков после запятой\n",
    "# subs - что заменяем для подсчёта\n",
    "expr.evalf(50, subs={'x':10})"
   ]
  },
  {
   "cell_type": "code",
   "execution_count": null,
   "metadata": {},
   "outputs": [],
   "source": [
    "from decimal import Decimal, getcontext\n",
    "from sympy import cos, Symbol, diff\n",
    "x = Symbol('x')\n",
    "\n",
    "\n",
    "def newton_algorithm(function, initial=1, number_of_steps=50, precision=50):\n",
    "    '''\n",
    "    initial - точка с которой инициализируется алгоритм,\n",
    "    number_of_steps - количество итераций,\n",
    "    precision - количество знаков после запятой\n",
    "    '''\n",
    "    \n",
    "    # Установка точности класса Decimal\n",
    "    getcontext().prec = precision\n",
    "\n",
    "    # Your code here\n",
    "    \n",
    "    return Decimal(str(initial))\n",
    "\n",
    "\n",
    "# Проверяет, что алгоритм верно находит решение некоторых функций\n",
    "# Считаем число пи\n",
    "assert abs(2 * newton_algorithm(cos(x)) - Decimal('3.14159265358979323846264338327950288419716939937510')) < Decimal('1E-45')\n",
    "\n",
    "# Считает корень из 6\n",
    "assert abs(newton_algorithm(x ** 2 - 6) - Decimal('2.4494897427831780981972840747058913919659474806567')) < Decimal('1E-45')\n",
    "\n",
    "# Находит корень какой-то очень страшной функции\n",
    "assert abs(newton_algorithm(x ** 88 - 4 * x ** 56 + 12 * x ** 2 - 6) - Decimal('1.0204939331936560067302581628041609643485648996148')) < Decimal('1E-45')\n",
    "\n",
    "# print('Всё сработало!')"
   ]
  },
  {
   "cell_type": "markdown",
   "metadata": {},
   "source": [
    "#### **Задача 2.6 [3 балла]** \n",
    "\n",
    "Придумайте математическую функцию и изначальную точку, для которой алгоритм Ньютона не работает. Проверьте, что сходимости для неё не будет, запустив написанную в прошлом задании функцию. Объясните, почему сходимости может не быть."
   ]
  },
  {
   "cell_type": "code",
   "execution_count": null,
   "metadata": {},
   "outputs": [],
   "source": [
    "# Your code here"
   ]
  },
  {
   "cell_type": "markdown",
   "metadata": {},
   "source": [
    "**Your text here**"
   ]
  },
  {
   "cell_type": "markdown",
   "metadata": {
    "id": "-ho4RhPtmOOI"
   },
   "source": [
    "## №3. Исследование функции."
   ]
  },
  {
   "cell_type": "markdown",
   "metadata": {
    "id": "daRO81COmoz0"
   },
   "source": [
    "Анализ функции в sympy автоматизируется с помощью пакета `sympy.calculus`, в частности `sympy.calculus.util` и `sympy.calculus.singularities`.\n",
    "\n",
    "В `sympy.calculus` реализованы функции, позволяющие находить область определения функции, сингулярные точки (точки, в которых функция не\n",
    "существует), область значений, интервал значений непрерывной функции на некотором интервале, стационарные точки и точки экстремума, а также\n",
    "определять, является ли функция монотонной на заданном интервале.\n",
    "\n",
    "Класс `sympy.calculus.util.AccumulationBounds` служит для вычисления интервала значений непрерывной функции на некотором промежутке, быть может,\n",
    "бесконечном. У экземпляров этого класса есть свойства delta, max, min, mid, представляющие соотвественно разность наибольшего и наименьшего\n",
    "значения, наибольшее, наименьшее значения и середину интервала между наибольшим и наименьшим значениями."
   ]
  },
  {
   "cell_type": "code",
   "execution_count": null,
   "metadata": {
    "id": "2R_UIgTcnc37"
   },
   "outputs": [],
   "source": [
    "#Just do it\n",
    "import sympy\n",
    "from sympy import *\n",
    "from sympy import sin as Sin\n",
    "from sympy import pi as Pi\n",
    "from sympy.calculus.util import *\n",
    "from sympy.abc import x\n",
    "import sympy as sp\n",
    "\n",
    "import numpy as np\n",
    "import matplotlib.pyplot as plt\n",
    "\n",
    "from scipy.misc import derivative\n",
    "from scipy.stats import norm\n",
    "%matplotlib inline"
   ]
  },
  {
   "cell_type": "markdown",
   "metadata": {
    "id": "jfknVnoroEYa"
   },
   "source": [
    "#### И все таки, как анализировать функцию?"
   ]
  },
  {
   "cell_type": "markdown",
   "metadata": {
    "id": "rZLPsE8CB_GO"
   },
   "source": [
    "Приведём пример анализа на функции $f(x) = \\frac{(x^3 - 1)\\sqrt{4 - x^2}}{(2x + 1)^2}$"
   ]
  },
  {
   "cell_type": "code",
   "execution_count": null,
   "metadata": {
    "id": "K-dMRqL_CDj6"
   },
   "outputs": [],
   "source": [
    "#Run\n",
    "\n",
    "x = sp.symbols('x')\n",
    "f = (x**3 - 1)*(4 - x**2)**(sp.S(1)/2)/(2*x + 1)**2\n",
    "\n",
    "def y(x):\n",
    "    return (x**3 - 1) * (4 - x**2)**(sp.S(1)/2) / (2 * x + 1)**2"
   ]
  },
  {
   "cell_type": "markdown",
   "metadata": {
    "id": "zbqvRTLuoMCI"
   },
   "source": [
    "###### 1. Исследование области определения функции.\n",
    "\n",
    "`sympy.calculus.util.continuous_domain(f, symbol, domain)`\n",
    "\n",
    "`f` - выражение, описывающее функцию\n",
    "\n",
    "`symbol` - переменная, от которой зависит исследуемая функция\n",
    "\n",
    "`domain` - область значений переменной, на которой рассматривается функция\n",
    "\n",
    "Если мы рассматриваем функцию на всей вещественной прямой, то `domain = S.Reals`\n",
    "\n",
    "Сингулярные точки - это точки, в которых функция не существует. Найти их можно с помощью `sympy.calculus.singularities.singularities(f, symbol, domain=None)`\n",
    "\n",
    "---\n"
   ]
  },
  {
   "cell_type": "markdown",
   "metadata": {
    "id": "a_EVZgKAGgpX"
   },
   "source": [
    "###### 2. Исследование области значений функции.\n",
    "\n",
    "`sympy.calculus.util.function_range(f, symbol, domain)`\n",
    "\n",
    "---"
   ]
  },
  {
   "cell_type": "markdown",
   "metadata": {
    "id": "BZeR3nR8GnDD"
   },
   "source": [
    "###### 3. Исследование периодичности функции (свойства функции повторяться через определенный промежуток (период)).\n",
    "\n",
    "`sympy.calculus.util.periodicity(f, symbol, check=False)`\n",
    "\n",
    "---"
   ]
  },
  {
   "cell_type": "markdown",
   "metadata": {
    "id": "qbAysydhGsie"
   },
   "source": [
    "###### 4. Стационарные точки (стационарной точкой дифференцируемой функции с одной переменной называется точка на графике функции, где производная функции равна нулю)\n",
    "\n",
    "`sympy.calculus.util.stationary_points(f, symbol, domain=Reals)`\n",
    "\n",
    "---"
   ]
  },
  {
   "cell_type": "markdown",
   "metadata": {
    "id": "CIBz_V6LGx9g"
   },
   "source": [
    "\n",
    "###### 5. Точки экстремума\n",
    "\n",
    "`sympy.calculus.util.maximum(f, symbol, domain=Reals)`\n",
    "\n",
    "`sympy.calculus.util.minimum(f, symbol, domain=Reals)`\n",
    "\n",
    "---\n"
   ]
  },
  {
   "cell_type": "markdown",
   "metadata": {
    "id": "x_fJISPdG2dT"
   },
   "source": [
    "###### 6. Исследование функции на монотонность\n",
    "\n",
    "`sympy.calculus.singularities.is_decreasing(f, interval=Reals, symbol=None)`\n",
    "\n",
    "`sympy.calculus.singularities.is_increasing(f, interval=Reals, symbol=None)`\n",
    "\n",
    "`sympy.calculus.singularities.is_monotonic(f, interval=Reals, symbol=None)`\n",
    "\n",
    "`sympy.calculus.singularities.is_strictly_decreasing(f, interval=Reals, symbol=None)`\n",
    "\n",
    "`sympy.calculus.singularities.is_strictly_increasing(f, interval=Reals, symbol=None)`\n",
    "\n",
    "---"
   ]
  },
  {
   "cell_type": "markdown",
   "metadata": {
    "id": "g8pbyVqqG4h3"
   },
   "source": [
    "###### 7. Минимальное и максимальное значение функции на интервале\n",
    "\n",
    "`sympy.calculus.util.AccumulationBounds(min, max)`\n",
    "\n",
    "---"
   ]
  },
  {
   "cell_type": "markdown",
   "metadata": {
    "id": "5gbPJdrKG_0a"
   },
   "source": [
    "###### 8. Четность\n",
    "Проверим выполнение равенств $f(-x) = f(x)$ и $f(-x) = -f(x)$."
   ]
  },
  {
   "cell_type": "code",
   "execution_count": null,
   "metadata": {
    "colab": {
     "base_uri": "https://localhost:8080/"
    },
    "id": "A_KpnlLtHMOD",
    "outputId": "b651d631-b0d8-42b3-dfb0-59459d8d138e"
   },
   "outputs": [],
   "source": [
    "if y(-x) == y(x):\n",
    "    print('Четная функция')\n",
    "elif y(-x) == -y(x):\n",
    "    print('Нечетная функция')\n",
    "else:\n",
    "    print('Функция общего вида')"
   ]
  },
  {
   "cell_type": "markdown",
   "metadata": {
    "id": "WcCUK1-PIPu3"
   },
   "source": [
    "###### 9. Точки пересечения с осями координат\n",
    "\n",
    "Используем solveset c domain=S.Reals для решения уравнения $f(x) = 0$ в вещественных числах."
   ]
  },
  {
   "cell_type": "code",
   "execution_count": null,
   "metadata": {
    "colab": {
     "base_uri": "https://localhost:8080/"
    },
    "id": "4MuIdxYGIW7U",
    "outputId": "b03dccd9-ac4a-4306-9556-d26ab3a2b623"
   },
   "outputs": [],
   "source": [
    "roots = list(solveset(y(x), domain=S.Reals))\n",
    "roots.sort()\n",
    "roots"
   ]
  },
  {
   "cell_type": "markdown",
   "metadata": {
    "id": "MjhOOwg4I0iL"
   },
   "source": [
    "###### 10. Точки перегиба\n",
    "\n",
    "Вычисляем вторую производную, упрощаем выражение и выделяем числитель и знаменатель, находим область определения второй производной."
   ]
  },
  {
   "cell_type": "code",
   "execution_count": null,
   "metadata": {
    "colab": {
     "base_uri": "https://localhost:8080/",
     "height": 533
    },
    "id": "8cWrXP0hJFIS",
    "outputId": "6a6bc328-6bb4-4eb9-c66c-b8f950bb12b5"
   },
   "outputs": [],
   "source": [
    "D = continuous_domain(y(x), x, S.Reals) #То есть рассматриваем функцию на всей вещественной прямой\n",
    "\n",
    "def df2(x):\n",
    "    return simplify(y(x).diff(x, 2))\n",
    "display(df2(x))\n",
    "df2_D = continuous_domain(df2(x), x, S.Reals) # Это область определения производной.\n",
    "display(df2_D)\n",
    "X = np.linspace(-2, 2, 20)\n",
    "X_df2_D = [x for x in X if x in df2_D] # Отбираем только точки из области определения производной.\n",
    "df2_num, df2_denom = fraction(df2(x))\n",
    "df2_num_Y = [df2_num.subs(x, x0) for x0 in X_df2_D] # Значения числителя производной в точках, где существует производная.\n",
    "plt.plot(X_df2_D, df2_num_Y)"
   ]
  },
  {
   "cell_type": "markdown",
   "metadata": {
    "id": "_QR-AEuuMW7U"
   },
   "source": [
    "###### 11. Ассимптоты\n",
    "\n",
    "Данный код поможет вам находить ассимптоты:"
   ]
  },
  {
   "cell_type": "code",
   "execution_count": null,
   "metadata": {
    "colab": {
     "base_uri": "https://localhost:8080/"
    },
    "id": "Kq7gOKrENTAz",
    "outputId": "cf3add11-2be1-46e6-9041-46363bba921e"
   },
   "outputs": [],
   "source": [
    "# Находим вертикальные асимптоты\n",
    "vertical_asymptotes = sp.solve(sp.denom(f), x)\n",
    "print(\"Вертикальные асимптоты:\", vertical_asymptotes)\n",
    "\n",
    "# Находим горизонтальные асимптоты\n",
    "horizontal_asymptotes = sp.limit(f, x, sp.oo)\n",
    "print(\"Горизонтальные асимптоты:\", horizontal_asymptotes)"
   ]
  },
  {
   "cell_type": "markdown",
   "metadata": {
    "id": "27DJuHb-2Abn"
   },
   "source": [
    "В данном случае горизонтальных асимптот нет."
   ]
  },
  {
   "cell_type": "markdown",
   "metadata": {
    "id": "SazaAhg5TzKY"
   },
   "source": [
    "Убеждаемся, что у нас есть 1 вертикальная ассимптота: x = -0.5"
   ]
  },
  {
   "cell_type": "markdown",
   "metadata": {
    "id": "4R-gOfmaNYfH"
   },
   "source": [
    "Значит, $x = -1/2$ - вертикальная асимптота, горизонтальных и наклонных асимптот быть не может, поскольку область определения конечна."
   ]
  },
  {
   "cell_type": "markdown",
   "metadata": {
    "id": "vhK9U7ATe4hf"
   },
   "source": [
    "  ##### Приведём пример использования данных методов. К примеру, мы хотим исследовать область определения функции $f(x) = \\frac{\\sqrt{x^2 + 4x + 1}}{cos(3x)}$"
   ]
  },
  {
   "cell_type": "markdown",
   "metadata": {
    "id": "KBMMPoyjf1b_"
   },
   "source": [
    "Для того, чтобы использовать continuous_domain из sympy.calculus.util"
   ]
  },
  {
   "cell_type": "code",
   "execution_count": null,
   "metadata": {
    "colab": {
     "base_uri": "https://localhost:8080/",
     "height": 58
    },
    "id": "-9RlxUcif2yK",
    "outputId": "ad66bb09-b286-40c0-f0a5-4cbe5234bdea"
   },
   "outputs": [],
   "source": [
    "f = (x**3 - 1)*(4 - x**2)**(sp.S(1)/2)/(2*x + 1)**2\n",
    "D = continuous_domain(f, x, S.Reals)\n",
    "D"
   ]
  },
  {
   "cell_type": "markdown",
   "metadata": {
    "id": "Bbv6n6gDh2Cd"
   },
   "source": [
    "Аналогичным образом можно найти область определения функции на периоде.\n",
    "\n",
    "Возьмем период $[0, \\pi]$"
   ]
  },
  {
   "cell_type": "code",
   "execution_count": null,
   "metadata": {
    "colab": {
     "base_uri": "https://localhost:8080/",
     "height": 37
    },
    "id": "0geJPEDhiGbL",
    "outputId": "f3d87895-0b12-492b-c14e-6b55f408ee42"
   },
   "outputs": [],
   "source": [
    "period = Interval(0, Pi)\n",
    "D = continuous_domain(f, x, period)\n",
    "D"
   ]
  },
  {
   "cell_type": "markdown",
   "metadata": {
    "id": "VXElhPiRtgNr"
   },
   "source": [
    "##### На графике отметим точки пересечения с осями координат, точку максимума  M  и вертикальную асимптоту."
   ]
  },
  {
   "cell_type": "code",
   "execution_count": null,
   "metadata": {
    "colab": {
     "base_uri": "https://localhost:8080/",
     "height": 430
    },
    "id": "TlUHWRONSOay",
    "outputId": "ae3fe3f9-ec03-41fb-e5e6-d70799b57318"
   },
   "outputs": [],
   "source": [
    "# Вычисляем стационарные точки\n",
    "f = (x**3 - 1)*(4 - x**2)**(sp.S(1)/2)/(2*x + 1)**2\n",
    "st_x = stationary_points(f, x)\n",
    "\n",
    "minY = -10\n",
    "maxY = 5\n",
    "\n",
    "ax = plt.gca()\n",
    "ax.set_ylim(minY, maxY)\n",
    "\n",
    "# Создаем функцию для вычисления значения f(x) для заданного массива x-ов\n",
    "f_func = sp.lambdify(x, f)\n",
    "\n",
    "# Создаем массив x значений для построения графика и вычисляем соответствующие значения f(x)\n",
    "x_vals = np.linspace(-2, 2, 100)\n",
    "f_vals = f_func(x_vals)\n",
    "\n",
    "# Ищем вертикальные асимптоты, максимум\n",
    "vertical_asymptotes = sp.solve(sp.denom(f), x)\n",
    "for i in vertical_asymptotes:\n",
    "  ax.axvline(x=i, color='red', linestyle='--') # изображение вертикальных асимптот\n",
    "\n",
    "max_y = maximum(f, x)\n",
    "\n",
    "# Ищем точки пересечения с осями\n",
    "roots_x = list(solveset(y(x), domain=S.Reals))\n",
    "roots_y = [float(y(point)) for point in roots_x]\n",
    "\n",
    "annotations = [r'$A_1$', r'$A_2$', r'$A_3$', r'$M$']\n",
    "ax.scatter(roots_x, roots_y, 50, color='green') # Изображение точек пересечения с осями\n",
    "for i, x0 in enumerate(roots_x):\n",
    "    ax.annotate(annotations[i], xy = (x0, roots_y[i]), xycoords = 'data',\n",
    "             xytext=(-5, 10), textcoords='offset points', fontsize = 16)\n",
    "\n",
    "for i in st_x:\n",
    "  if (y(i) == max_y):\n",
    "    ax.scatter(i, max_y, 50, color='black') # Изображение точек максимума функции\n",
    "\n",
    "for i in st_x:\n",
    "  if (y(i) == max_y):\n",
    "    ax.annotate(annotations[3], xy = (i, max_y), xycoords='data',\n",
    "                xytext=(-5, 10), textcoords='offset points', fontsize=16)\n",
    "\n",
    "ax.plot(x_vals, f_vals, label='f(x)')\n",
    "\n",
    "\n",
    "plt.show()"
   ]
  },
  {
   "cell_type": "markdown",
   "metadata": {
    "id": "0j37v_tAtmmz"
   },
   "source": [
    "#### **Задание 3.1 [2 балла]**."
   ]
  },
  {
   "cell_type": "markdown",
   "metadata": {
    "id": "XXO-hbXNt6BG"
   },
   "source": [
    "Вам требуется написать функцию `Get_Tangent(g_1, x_1)->str`, которая вычисляет уравнение касательной к $g_1(x)$ в точке $x_1$. Функция возвращает строку - многочлен, записанный в стандартном виде.\n",
    "\n",
    "Пример одного из тестов вы можете наблюдать снизу.\n",
    "\n",
    "Также выведите данную касательную на графике, совместно с функцией $g_1(x)$."
   ]
  },
  {
   "cell_type": "code",
   "execution_count": null,
   "metadata": {
    "id": "8f7bShlUwCHe"
   },
   "outputs": [],
   "source": [
    "#Write your solution here:)\n",
    "def GetTangent(g_1, x_1)->str:\n"
   ]
  },
  {
   "cell_type": "code",
   "execution_count": null,
   "metadata": {
    "colab": {
     "base_uri": "https://localhost:8080/",
     "height": 36
    },
    "id": "B0tSsPTl8aMO",
    "outputId": "92287ca4-0ffe-46a1-820e-0068f65c5658"
   },
   "outputs": [],
   "source": [
    "answer = \"-10.0*x - 25.0\";\n",
    "if (GetTangent(x**2, -5) == answer) :\n",
    "    display(\"OK\");\n",
    "else:\n",
    "    display(\"WA\");"
   ]
  },
  {
   "cell_type": "markdown",
   "metadata": {
    "id": "0rklqFs5wH9i"
   },
   "source": [
    "#### **Задание 3.2 [6 баллов]**."
   ]
  },
  {
   "cell_type": "markdown",
   "metadata": {
    "id": "jqEwKacyxbLD"
   },
   "source": [
    "Ваша задача проанализировать следующую функцию по пунктам 1-11.\n",
    "\n",
    "Что нужно сделать на одном графике:\n",
    "1.   Построить график этой функции\n",
    "2.   Построить ее асимптоты (если есть)\n",
    "3.   Обозначить точки пересечения с осью абсцисс как $A_i$\n",
    "4.   Обозначить точки пересечения с осью ординат как $B_i$\n",
    "5.   Обозначить точки перегиба как $P_i$\n",
    "6.   Обозначить экстремумы как $M_i$\n",
    "7.   Обозначить глобальный минимум как $C_i$\n",
    "8.   Обозначить глобальный максимум как $D_i$\n",
    "\n",
    "Обязательны указать все легенды (подписать функцию, асимптоты)\n",
    "\n",
    "\n",
    "Ваша функция:\n",
    "$$ g_2(x) = xe^x $$   \n",
    "Рекомендация: будет удобнее разбивать решения по частям, а не писать весь код сразу"
   ]
  },
  {
   "cell_type": "code",
   "execution_count": null,
   "metadata": {
    "id": "1cvSSqvlyWau"
   },
   "outputs": [],
   "source": [
    "#Write your solution here :)"
   ]
  },
  {
   "cell_type": "markdown",
   "metadata": {
    "id": "JHkHKR_pybG2"
   },
   "source": [
    "#### **Задание 3.3 [3 балла]**."
   ]
  },
  {
   "cell_type": "markdown",
   "metadata": {
    "id": "7d_D-OQDyi7s"
   },
   "source": [
    "Исследовать функцию по пунктам 1-7, найти минимальное и максимальное значение на каком-нибудь конечном интервале, не содержащем точек разрыва, построить\n",
    "график.\n",
    "\n",
    "\n",
    "  $$g_3(x) = \\frac{x^2}{x^3 + 4x + 4}$$ \n"
   ]
  },
  {
   "cell_type": "code",
   "execution_count": null,
   "metadata": {
    "id": "qUSAztsFyjWK"
   },
   "outputs": [],
   "source": [
    "#Write your solution here :)"
   ]
  },
  {
   "cell_type": "markdown",
   "metadata": {
    "id": "8_ZX1G79N5dn"
   },
   "source": [
    "#### **Задание 3.4 [1 балл]**."
   ]
  },
  {
   "cell_type": "markdown",
   "metadata": {
    "id": "2Wfz33cKOABa"
   },
   "source": [
    "Найти область, на которой следующая функция вогнута/выпукла\n",
    "\n",
    "Найти область, на которой следующая функция вогнута/выпукла $g_4(x) = $$g_4(x) = \\frac{4-x}{x^2} - x^2$\n",
    "\n",
    "Напишите реализацию функции `convex() -> And | Or` и `concave() -> And | Or`\n",
    "Важно: в данной задаче тип возвращаемый вашими функциями может быть либо `And`, либо `Or` (выражение, возвращаемое методом `solve`). Также **обязательно** пропишите явно, чему равна $g_4$. Например `g_4 = 5 * x + 20`."
   ]
  },
  {
   "cell_type": "code",
   "execution_count": null,
   "metadata": {
    "id": "Z2scgR5vOAfV"
   },
   "outputs": [],
   "source": [
    "#Write your solution here :)\n",
    "\n",
    "g_4 =\n",
    "\n",
    "def convex() -> And | Or:\n",
    "    pass\n",
    "  #Your realization\n",
    "def concavity() -> And | Or:\n",
    "    pass\n",
    "  #Your realization"
   ]
  },
  {
   "cell_type": "markdown",
   "metadata": {
    "id": "Q0ooLGIdOFCF"
   },
   "source": [
    "#### **Задание 3.5 [1 балл]**.\n"
   ]
  },
  {
   "cell_type": "markdown",
   "metadata": {
    "id": "UtKFm-qpOKUQ"
   },
   "source": [
    "Найти область, на которой следующая функция строго возрастает/убывает.\n",
    "\n",
    "Найти область, на которой следующая функция возрастает/убывает $$g_5(x)=x^5 - 2^x$$\n",
    "\n",
    "Ваша функция `find_strictly_decreasing()` должна вернуть `list` из интервалов строгого убывания в виде, где интервал убывания представлен в виде `Interval.open(from, to)`. Аналогично с функцией `find_strictly_increasing()` и промежутками строгого возрастания.\n",
    "\n",
    "Пример возвращаемого функцией значения: `[Interval.open(-sympy.oo, -10), Interval.open(-5, 3)]`\n",
    "\n",
    "Также **обязательно** пропишите явно, чему равна $g_5$. Например `g_5 = 5 * x + 20`."
   ]
  },
  {
   "cell_type": "code",
   "execution_count": null,
   "metadata": {
    "id": "V_nIBeboOL6G"
   },
   "outputs": [],
   "source": [
    "#Write your solution here :)\n",
    "\n",
    "g_5 =\n",
    "\n",
    "def find_strictly_decreasing():\n",
    "  pass\n",
    "  # your_realization\n",
    "\n",
    "def find_strictly_increasing():\n",
    "  pass\n",
    " # your_realization"
   ]
  }
 ],
 "metadata": {
  "colab": {
   "provenance": []
  },
  "kernelspec": {
   "display_name": "Python 3 (ipykernel)",
   "language": "python",
   "name": "python3"
  },
  "language_info": {
   "codemirror_mode": {
    "name": "ipython",
    "version": 3
   },
   "file_extension": ".py",
   "mimetype": "text/x-python",
   "name": "python",
   "nbconvert_exporter": "python",
   "pygments_lexer": "ipython3",
   "version": "3.9.13"
  }
 },
 "nbformat": 4,
 "nbformat_minor": 1
}
